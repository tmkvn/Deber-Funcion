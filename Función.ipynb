{
  "nbformat": 4,
  "nbformat_minor": 0,
  "metadata": {
    "colab": {
      "provenance": []
    },
    "kernelspec": {
      "name": "python3",
      "display_name": "Python 3"
    },
    "language_info": {
      "name": "python"
    }
  },
  "cells": [
    {
      "cell_type": "code",
      "source": [
        "import numpy as np\n",
        "# 1. V. Inicial ; 2. V. Final ; 3. Aceleración ; 4. Tiempo ; 5. Distancia \n",
        "def calcular_movimiento(opc,vo,vf,a,t,d):\n",
        "  if opc == 1:\n",
        "    if vo != None:\n",
        "      return vo\n",
        "    elif vf != None and a != None and t != None:\n",
        "      return vf-(a*t)\n",
        "    else:\n",
        "      return \"No es posible calcular la velocidad inicial con los datos proporcionados\"\n",
        "  elif opc == 2:\n",
        "    if vf != None:\n",
        "      return vf\n",
        "    elif vo != None and a != None and t != None:\n",
        "      return vo + a*t\n",
        "    elif vo != None and d != None and a != None:\n",
        "      return np.round(np.sqrt(vo**2+2*a*d),3)\n",
        "    else:\n",
        "      return \"No es posible calcular la velocidad final con los datos proporcionados\"\n",
        "  elif opc == 3:\n",
        "    if a != None:\n",
        "      return a \n",
        "    elif vo != None and vf != None and t != None:\n",
        "      return (vf-vo)/t\n",
        "    elif vo != None and vf != None and d != None:\n",
        "      return (vf**2-vo**2)/(2*d)\n",
        "    else: \n",
        "      return \"No es posible calcular la aceleración con los datos proporcionados\"\n",
        "  elif opc == 4:\n",
        "    if t != None:\n",
        "      return t \n",
        "    elif vo != None and vf != None and a != None:\n",
        "      return np.round((vf-vo)/a,3)\n",
        "    elif vo != None and vf != None and d != None:\n",
        "      return np.round((2*d)/(vf-vo),3)\n",
        "    else: \n",
        "      return \"No es posible calcular el tiempo con los datos proporcionados\"\n",
        "  elif opc == 5:\n",
        "    if d != None:\n",
        "      return d \n",
        "    elif vo != None and t != None and a != None:\n",
        "      return np.round(vo*t+(1/2)*a*t**2,3)\n",
        "    elif vo != None and vf != None and a != None:\n",
        "      return np.round((vf**2-vo**2)/(2*a),3)\n",
        "    else: \n",
        "      return \"No es posible calcular el desplazamiento con los datos proporcionados\"\n",
        "  else:\n",
        "    return 'Ingrese una opción del 1 al 5'\n"
      ],
      "metadata": {
        "id": "APXjAKAjKX2-"
      },
      "execution_count": 16,
      "outputs": []
    },
    {
      "cell_type": "code",
      "source": [
        "def mostrar_resultados(vo,vf,a,t,d):\n",
        "  resultado = {'Velocidad inicial': vo, 'Velocidad final': vf, 'Aceleración': a, 'Tiempo': t, 'Desplazamiento': d}\n",
        "  for clave, valor in resultado.items():\n",
        "    print(clave, '=', valor)\n"
      ],
      "metadata": {
        "id": "4YJCVu5Yy7pT"
      },
      "execution_count": 4,
      "outputs": []
    },
    {
      "cell_type": "code",
      "source": [
        "# 1. Un automóvil acelera desde el reposo a una tasa de 2 m/s² durante 5 segundos. Calcula su velocidad final y desplazamiento en ese tiempo.\n",
        "v_inicial = 0\n",
        "v_final = None\n",
        "aceleracion = 2\n",
        "tiempo = 5\n",
        "desplazamiento = None \n",
        "# Opciones: 1. V. Inicial ; 2. V. Final ; 3. Aceleración ; 4. Tiempo ; 5. Distancia \n",
        "v_final = calcular_movimiento(2,v_inicial,v_final,aceleracion,tiempo,desplazamiento)\n",
        "desplazamiento = calcular_movimiento(5,v_inicial,v_final,aceleracion,tiempo,desplazamiento)\n",
        "mostrar_resultados(v_inicial,v_final,aceleracion,tiempo,desplazamiento)"
      ],
      "metadata": {
        "colab": {
          "base_uri": "https://localhost:8080/"
        },
        "id": "Pf46gTZAxEsu",
        "outputId": "4a34f8af-7fc3-474a-abef-1a5eb465d882"
      },
      "execution_count": null,
      "outputs": [
        {
          "output_type": "stream",
          "name": "stdout",
          "text": [
            "Velocidad inicial = 0\n",
            "Velocidad final = 10\n",
            "Aceleración = 2\n",
            "Tiempo = 5\n",
            "Desplazamiento = 25.0\n"
          ]
        }
      ]
    },
    {
      "cell_type": "code",
      "source": [
        "# 2. Un objeto se mueve con una velocidad inicial de 10 m/s y una aceleración de -3 m/s² durante 8 segundos. Calcula su velocidad final y desplazamiento en ese tiempo.\n",
        "v_inicial = 10\n",
        "v_final = None\n",
        "aceleracion = -3\n",
        "tiempo = 8\n",
        "desplazamiento = None \n",
        "# Opciones: 1. V. Inicial ; 2. V. Final ; 3. Aceleración ; 4. Tiempo ; 5. Distancia \n",
        "v_final = calcular_movimiento(2,v_inicial,v_final,aceleracion,tiempo,desplazamiento)\n",
        "desplazamiento = calcular_movimiento(5,v_inicial,v_final,aceleracion,tiempo,desplazamiento)\n",
        "mostrar_resultados(v_inicial,v_final,aceleracion,tiempo,desplazamiento)"
      ],
      "metadata": {
        "colab": {
          "base_uri": "https://localhost:8080/"
        },
        "id": "-T_mcx6C0oOA",
        "outputId": "363137d2-1f0c-4e51-fc1d-77f0c6226dfc"
      },
      "execution_count": null,
      "outputs": [
        {
          "output_type": "stream",
          "name": "stdout",
          "text": [
            "Velocidad inicial = 10\n",
            "Velocidad final = -14\n",
            "Aceleración = -3\n",
            "Tiempo = 8\n",
            "Desplazamiento = -16.0\n"
          ]
        }
      ]
    },
    {
      "cell_type": "code",
      "source": [
        "# 3. Un cohete despega con una velocidad inicial de 50 m/s y acelera a 15 m/s² durante 6 segundos. Calcula su velocidad final y desplazamiento en ese tiempo.\n",
        "v_inicial = 50\n",
        "v_final = None\n",
        "aceleracion = 15\n",
        "tiempo = 6\n",
        "desplazamiento = None \n",
        "# Opciones: 1. V. Inicial ; 2. V. Final ; 3. Aceleración ; 4. Tiempo ; 5. Distancia \n",
        "v_final = calcular_movimiento(2,v_inicial,v_final,aceleracion,tiempo,desplazamiento)\n",
        "desplazamiento = calcular_movimiento(5,v_inicial,v_final,aceleracion,tiempo,desplazamiento)\n",
        "mostrar_resultados(v_inicial,v_final,aceleracion,tiempo,desplazamiento)"
      ],
      "metadata": {
        "colab": {
          "base_uri": "https://localhost:8080/"
        },
        "id": "wy1pivIW-dA5",
        "outputId": "843eb721-1245-4e78-cb15-184a1237473b"
      },
      "execution_count": null,
      "outputs": [
        {
          "output_type": "stream",
          "name": "stdout",
          "text": [
            "Velocidad inicial = 50\n",
            "Velocidad final = 140\n",
            "Aceleración = 15\n",
            "Tiempo = 6\n",
            "Desplazamiento = 570.0\n"
          ]
        }
      ]
    },
    {
      "cell_type": "code",
      "source": [
        "# 4. Un ciclista frena con una desaceleración constante de 4 m/s² durante 3segundos, partiendo de una velocidad inicial de 12 m/s. \n",
        "#    Calcula su velocidad final y desplazamiento en ese tiempo.\n",
        "v_inicial = 12\n",
        "v_final = None\n",
        "aceleracion = -4\n",
        "tiempo = 3\n",
        "desplazamiento = None \n",
        "# Opciones: 1. V. Inicial ; 2. V. Final ; 3. Aceleración ; 4. Tiempo ; 5. Distancia \n",
        "v_final = calcular_movimiento(2,v_inicial,v_final,aceleracion,tiempo,desplazamiento)\n",
        "desplazamiento = calcular_movimiento(5,v_inicial,v_final,aceleracion,tiempo,desplazamiento)\n",
        "mostrar_resultados(v_inicial,v_final,aceleracion,tiempo,desplazamiento)\n"
      ],
      "metadata": {
        "colab": {
          "base_uri": "https://localhost:8080/"
        },
        "id": "dpUaN00f-x8c",
        "outputId": "5ee84511-9ceb-4b3f-869b-1373a4c4099c"
      },
      "execution_count": null,
      "outputs": [
        {
          "output_type": "stream",
          "name": "stdout",
          "text": [
            "Velocidad inicial = 12\n",
            "Velocidad final = 0\n",
            "Aceleración = -4\n",
            "Tiempo = 3\n",
            "Desplazamiento = 18.0\n"
          ]
        }
      ]
    },
    {
      "cell_type": "code",
      "source": [
        "# 5. Un objeto cae libremente desde una altura de 100 metros bajo la influencia de la gravedad (-9.8 m/s²). Calcula su velocidad final y el\n",
        "# tiempo que tarda en caer.\n",
        "v_inicial = 0\n",
        "v_final = None\n",
        "aceleracion = 9.8\n",
        "tiempo = None\n",
        "desplazamiento = 100 \n",
        "# Opciones: 1. V. Inicial ; 2. V. Final ; 3. Aceleración ; 4. Tiempo ; 5. Distancia \n",
        "v_final = calcular_movimiento(2,v_inicial,v_final,aceleracion,tiempo,desplazamiento)\n",
        "tiempo = calcular_movimiento(4,v_inicial,v_final,aceleracion,tiempo,desplazamiento)\n",
        "mostrar_resultados(v_inicial,v_final,aceleracion,tiempo,desplazamiento)"
      ],
      "metadata": {
        "colab": {
          "base_uri": "https://localhost:8080/"
        },
        "id": "V98baNHDbVy1",
        "outputId": "1d362cd6-5a79-4e27-a57c-1db01d4ae33b"
      },
      "execution_count": 19,
      "outputs": [
        {
          "output_type": "stream",
          "name": "stdout",
          "text": [
            "Velocidad inicial = 0\n",
            "Velocidad final = 44.272\n",
            "Aceleración = 9.8\n",
            "Tiempo = 4.518\n",
            "Desplazamiento = 100\n"
          ]
        }
      ]
    },
    {
      "cell_type": "code",
      "source": [
        "# 6. Un coche viaja a una velocidad constante de 30 m/s durante 10 segundos. Después acelera a una tasa de 4 m/s² durante otros 5 segundos.\n",
        "# Calcula su velocidad final y desplazamiento total \n",
        "v_inicial = 30\n",
        "v_final = None\n",
        "aceleracion = 4\n",
        "tiempo = 5\n",
        "desplazamiento = None \n",
        "# Opciones: 1. V. Inicial ; 2. V. Final ; 3. Aceleración ; 4. Tiempo ; 5. Distancia \n",
        "v_final = calcular_movimiento(2,v_inicial,v_final,aceleracion,tiempo,desplazamiento)\n",
        "d1 = calcular_movimiento(5,v_inicial,v_final,aceleracion,tiempo,desplazamiento)\n",
        "d2 = +calcular_movimiento(5,30,30,0,10,None)\n",
        "desplazamiento = d1 + d2\n",
        "print(\"Velocidad final =\",v_final)\n",
        "print(\"Desplazmiento total =\",desplazamiento)"
      ],
      "metadata": {
        "colab": {
          "base_uri": "https://localhost:8080/"
        },
        "id": "XROUHo4Ycb3Y",
        "outputId": "9ea41eeb-b842-475b-d13d-8b51bb384ddd"
      },
      "execution_count": null,
      "outputs": [
        {
          "output_type": "stream",
          "name": "stdout",
          "text": [
            "Velocidad final = 50\n",
            "Desplazmiento total = 500.0\n"
          ]
        }
      ]
    },
    {
      "cell_type": "code",
      "source": [
        "# 7. Un proyectil es lanzado verticalmente hacia arriba con una velocidad inicial de 20 m/s. Calcula su altura máxima alcanzada y el tiempo que\n",
        "# tarda en alcanzarla (considera la aceleración de la gravedad como -9.8 m/s² )\n",
        "v_inicial = 20\n",
        "v_final = 0\n",
        "aceleracion = -9.8\n",
        "tiempo = None\n",
        "altura = None \n",
        "# Opciones: 1. V. Inicial ; 2. V. Final ; 3. Aceleración ; 4. Tiempo ; 5. altura \n",
        "tiempo = calcular_movimiento(4,v_inicial,v_final,aceleracion,tiempo,altura)\n",
        "altura = calcular_movimiento(5,v_inicial,v_final,aceleracion,tiempo,altura)\n",
        "print(\"Altura máxima:\",altura)\n",
        "print(\"Tiempo:\",tiempo)"
      ],
      "metadata": {
        "colab": {
          "base_uri": "https://localhost:8080/"
        },
        "id": "c1gQmQt5hQlt",
        "outputId": "8df6a663-0580-4c04-adfa-d1fe27a65794"
      },
      "execution_count": null,
      "outputs": [
        {
          "output_type": "stream",
          "name": "stdout",
          "text": [
            "Altura máxima: 20.408\n",
            "Tiempo: 2.041\n"
          ]
        }
      ]
    },
    {
      "cell_type": "code",
      "source": [
        "# 8. Un tren se mueve a una velocidad inicial de 10 m/s y una aceleración de 1.5 m/s² durante 20 segundos. Calcula su velocidad final\n",
        "# y desplazamiento en ese tiempo\n",
        "v_inicial = 10\n",
        "v_final = None\n",
        "aceleracion = 1.5\n",
        "tiempo = 20\n",
        "desplazamiento = None \n",
        "# Opciones: 1. V. Inicial ; 2. V. Final ; 3. Aceleración ; 4. Tiempo ; 5. Distancia \n",
        "v_final = calcular_movimiento(2,v_inicial,v_final,aceleracion,tiempo,desplazamiento)\n",
        "desplazamiento = calcular_movimiento(5,v_inicial,v_final,aceleracion,tiempo,desplazamiento)\n",
        "mostrar_resultados(v_inicial,v_final,aceleracion,tiempo,desplazamiento)"
      ],
      "metadata": {
        "colab": {
          "base_uri": "https://localhost:8080/"
        },
        "id": "1-sRYn7Chz9W",
        "outputId": "4f84ab17-4180-4d0c-bdad-c5bba3b1cb8f"
      },
      "execution_count": null,
      "outputs": [
        {
          "output_type": "stream",
          "name": "stdout",
          "text": [
            "Velocidad inicial = 10\n",
            "Velocidad final = 40.0\n",
            "Aceleración = 1.5\n",
            "Tiempo = 20\n",
            "Desplazamiento = 500.0\n"
          ]
        }
      ]
    },
    {
      "cell_type": "code",
      "source": [
        "# 9. Un objeto se mueve a una velocidad constante de 5 m/s durante 15 segundos. Después desacelera a una tasa de -2 m/s² durante 7 segundos.\n",
        "# Calcula su velocidad final y desplazamiento total  \n",
        "v_inicial = 5\n",
        "v_final = None\n",
        "aceleracion = -2\n",
        "tiempo = 7\n",
        "desplazamiento = None \n",
        "# Opciones: 1. V. Inicial ; 2. V. Final ; 3. Aceleración ; 4. Tiempo ; 5. Distancia \n",
        "v_final = calcular_movimiento(2,v_inicial,v_final,aceleracion,tiempo,desplazamiento)\n",
        "d1 = +calcular_movimiento(5,5,5,0,15,None)\n",
        "d2 = calcular_movimiento(5,v_inicial,v_final,aceleracion,tiempo,desplazamiento)\n",
        "desplazamiento = d1 + d2\n",
        "print(\"Velocidad final =\",v_final)\n",
        "print(\"Desplazmiento total =\",desplazamiento)"
      ],
      "metadata": {
        "colab": {
          "base_uri": "https://localhost:8080/"
        },
        "id": "tvJ7euKJiUqV",
        "outputId": "6738386e-569b-4176-cab5-7da111a15f4e"
      },
      "execution_count": null,
      "outputs": [
        {
          "output_type": "stream",
          "name": "stdout",
          "text": [
            "Velocidad final = -9\n",
            "Desplazmiento total = 61.0\n"
          ]
        }
      ]
    },
    {
      "cell_type": "code",
      "source": [
        "# 10. Un cuerpo cae verticalmente desde el reposo durante 4 segundos. Calcula la velocidad final  y el desplazamiento en ese tiempo.\n",
        "# (considera la aceleración de la gravedad como -9.8 m/s²)\n",
        "v_inicial = 0\n",
        "v_final = None\n",
        "aceleracion = -9.8\n",
        "tiempo = 4\n",
        "desplazamiento = None \n",
        "# Opciones: 1. V. Inicial ; 2. V. Final ; 3. Aceleración ; 4. Tiempo ; 5. Distancia \n",
        "v_final = calcular_movimiento(2,v_inicial,v_final,aceleracion,tiempo,desplazamiento)\n",
        "desplazamiento = calcular_movimiento(5,v_inicial,v_final,aceleracion,tiempo,desplazamiento)\n",
        "mostrar_resultados(v_inicial,v_final,aceleracion,tiempo,desplazamiento)"
      ],
      "metadata": {
        "colab": {
          "base_uri": "https://localhost:8080/"
        },
        "id": "apuV9DWYiy7_",
        "outputId": "6b286c6f-6aab-4859-9fc2-0ff807d3e821"
      },
      "execution_count": 5,
      "outputs": [
        {
          "output_type": "stream",
          "name": "stdout",
          "text": [
            "Velocidad inicial = 0\n",
            "Velocidad final = -39.2\n",
            "Aceleración = -9.8\n",
            "Tiempo = 4\n",
            "Desplazamiento = -78.4\n"
          ]
        }
      ]
    }
  ]
}